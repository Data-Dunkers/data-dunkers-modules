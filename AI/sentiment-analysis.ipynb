{
 "cells": [
  {
   "cell_type": "markdown",
   "metadata": {},
   "source": [
    "![Data Dunkers Banner](https://github.com/PS43Foundation/data-dunkers/blob/main/docs/top-banner.jpg?raw=true)\n",
    "\n",
    "<a href=\"https://hub.callysto.ca/jupyter/hub/user-redirect/git-pull?repo=https%3A%2F%2Fgithub.com%2Fdata-dunkers%2Fdata-dunkers-modules&branch=main&subPath=AI/sentiment-analysis.ipynb&depth=1\" target=\"_parent\"><img src=\"https://raw.githubusercontent.com/callysto/curriculum-notebooks/master/open-in-callysto-button.svg?sanitize=true\" width=\"123\" height=\"24\" alt=\"Open in Callysto\"/></a><a href=\"https://colab.research.google.com/github/data-dunkers/data-dunkers-modules/blob/mainAI/sentiment-analysis.ipynb\" target=\"_parent\"><img src=\"https://colab.research.google.com/assets/colab-badge.svg?sanitize=true\" width=\"123\" height=\"24\" alt=\"Open in Colab\"/></a>"
   ]
  },
  {
   "cell_type": "code",
   "execution_count": null,
   "metadata": {},
   "outputs": [],
   "source": [
    "import nltk\n",
    "from nltk.sentiment.vader import SentimentIntensityAnalyzer\n",
    "import requests\n",
    "from bs4 import BeautifulSoup"
   ]
  },
  {
   "cell_type": "code",
   "execution_count": null,
   "metadata": {},
   "outputs": [],
   "source": [
    "nltk.download('vader_lexicon')"
   ]
  },
  {
   "cell_type": "code",
   "execution_count": null,
   "metadata": {},
   "outputs": [],
   "source": [
    "sid = SentimentIntensityAnalyzer()\n",
    "\n",
    "sentences = [\"I am very extremely happy today because I scored an high score on my math test! I am feeling ecstatic!\", \"I am feeling okay today because I scored an average score on my science exam. I feel decent.\",\n",
    "             \"I am feeling very sad today because I scored an low score on my history exam today. This sucks!\"]\n",
    "\n",
    "for sentence in sentences:\n",
    "    score = sid.polarity_scores(sentence)\n",
    "    print(f\"Sentence: {sentence}\")\n",
    "    print(f\"Sentiment Scores: {score}\")\n",
    "    print(\"\\n\")"
   ]
  },
  {
   "cell_type": "code",
   "execution_count": null,
   "metadata": {},
   "outputs": [],
   "source": [
    "luka_url = \"https://www.asapsports.com/show_interview.php?id=198323\"\n",
    "\n",
    "response = requests.get(luka_url)\n",
    "luka_html = response.content\n",
    "\n",
    "soup = BeautifulSoup(luka_html, \"html.parser\")\n",
    "\n",
    "luka_paragraphs= soup.find_all('p')\n",
    "\n",
    "temp = [para.get_text(strip=True) for para in luka_paragraphs]\n",
    "luka_info_combined = \"\\n\".join(temp)\n",
    "\n",
    "print(luka_info_combined)"
   ]
  },
  {
   "cell_type": "code",
   "execution_count": null,
   "metadata": {},
   "outputs": [],
   "source": [
    "luka_score = sid.polarity_scores(luka_info_combined)\n",
    "luka_score"
   ]
  },
  {
   "cell_type": "code",
   "execution_count": null,
   "metadata": {},
   "outputs": [],
   "source": [
    "# separating texts\n",
    "\n",
    "def separate_text_luka(text):\n",
    "    interviewer_text = []\n",
    "    luka_text = []\n",
    "\n",
    "    lines = text.split('\\n')\n",
    "    current_speaker = None\n",
    "\n",
    "    for line in lines:\n",
    "        if line.startswith('Q.'):\n",
    "            current_speaker = 'interviewer'\n",
    "            interviewer_text.append(line[2:].strip())\n",
    "        elif line.startswith('LUKA DONCIC:'):\n",
    "            current_speaker = 'luka_doncic'\n",
    "            luka_text.append(line[len('LUKA DONCIC:'):].strip())\n",
    "        else:\n",
    "            if current_speaker == 'interviewer':\n",
    "                interviewer_text[-1] += ' ' + line.strip()\n",
    "            elif current_speaker == 'luka_doncic':\n",
    "                luka_text[-1] += ' ' + line.strip()\n",
    "\n",
    "    return '\\n'.join(interviewer_text), '\\n'.join(luka_text)\n",
    "\n",
    "interviewer, luka_doncic = separate_text_luka(luka_info_combined)\n",
    "\n",
    "print(\"Interviewer:\")\n",
    "print(interviewer)\n",
    "print(\"\\nLuka Dončić:\")\n",
    "print(luka_doncic)"
   ]
  },
  {
   "cell_type": "code",
   "execution_count": null,
   "metadata": {},
   "outputs": [],
   "source": [
    "luka_interviewer = sid.polarity_scores(interviewer)\n",
    "print(f\"Luka Interviewer Score: {luka_interviewer}\")\n",
    "\n",
    "luka_individual = sid.polarity_scores(luka_doncic)\n",
    "print(f\"Luka Score: {luka_individual}\")"
   ]
  },
  {
   "cell_type": "code",
   "execution_count": null,
   "metadata": {},
   "outputs": [],
   "source": [
    "jayson_tatum_url = 'https://www.asapsports.com/show_interview.php?id=198332'\n",
    "\n",
    "response = requests.get(jayson_tatum_url)\n",
    "tatum_html = response.content\n",
    "\n",
    "soup = BeautifulSoup(tatum_html, \"html.parser\")\n",
    "\n",
    "tatum_paragraphs= soup.find_all('p')\n",
    "\n",
    "temp = [para.get_text(strip=True) for para in tatum_paragraphs]\n",
    "tatum_info_combined = \"\\n\".join(temp)\n",
    "\n",
    "print(tatum_info_combined)"
   ]
  },
  {
   "cell_type": "code",
   "execution_count": null,
   "metadata": {},
   "outputs": [],
   "source": [
    "tatum_score = sid.polarity_scores(tatum_info_combined)\n",
    "tatum_score"
   ]
  },
  {
   "cell_type": "code",
   "execution_count": null,
   "metadata": {},
   "outputs": [],
   "source": [
    "def separate_text_tatum(text):\n",
    "    interviewer_text = []\n",
    "    tatum_text = []\n",
    "\n",
    "    lines = text.split('\\n')\n",
    "    current_speaker = None\n",
    "\n",
    "    for line in lines:\n",
    "        if line.startswith('Q.'):\n",
    "            current_speaker = 'interviewer'\n",
    "            interviewer_text.append(line[2:].strip())\n",
    "        elif line.startswith('JAYSON TATUM:'):\n",
    "            current_speaker = 'jayson_tatum'\n",
    "            tatum_text.append(line[len('JAYSON TATUM:'):].strip())\n",
    "        else:\n",
    "            if current_speaker == 'interviewer':\n",
    "                interviewer_text[-1] += ' ' + line.strip()\n",
    "            elif current_speaker == 'jayson_tatum':\n",
    "                tatum_text[-1] += ' ' + line.strip()\n",
    "\n",
    "    return '\\n'.join(interviewer_text), '\\n'.join(tatum_text)"
   ]
  },
  {
   "cell_type": "code",
   "execution_count": null,
   "metadata": {},
   "outputs": [],
   "source": [
    "tatum_interviewer, tatum_individual = separate_text(tatum_info_combined)\n",
    "\n",
    "print(\"Interviewer:\")\n",
    "print(tatum_interviewer)\n",
    "print(\"\\nJayson Tatum:\")\n",
    "print(tatum_individual)"
   ]
  }
 ],
 "metadata": {
  "kernelspec": {
   "display_name": "Python 3",
   "language": "python",
   "name": "python3"
  },
  "language_info": {
   "codemirror_mode": {
    "name": "ipython",
    "version": 3
   },
   "file_extension": ".py",
   "mimetype": "text/x-python",
   "name": "python",
   "nbconvert_exporter": "python",
   "pygments_lexer": "ipython3",
   "version": "3.12.4"
  }
 },
 "nbformat": 4,
 "nbformat_minor": 2
}
