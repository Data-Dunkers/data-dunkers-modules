{
 "cells": [
  {
   "cell_type": "markdown",
   "metadata": {},
   "source": [
    "<a href=\"https://hub.callysto.ca/jupyter/hub/user-redirect/git-pull?repo=https%3A%2F%2Fgithub.com%2Fcallysto%2Fcahiers-de-programmes&branch=master&subPath=/testing/test.ipynb&depth=1\" target=\"_parent\"><img src=\"https://raw.githubusercontent.com/callysto/curriculum-notebooks/master/open-in-callysto-button.svg?sanitize=true\" width=\"123\" height=\"24\" alt=\"Open in Callysto\"/></a>"
   ]
  },
  {
   "cell_type": "markdown",
   "metadata": {},
   "source": [
    "# Adding Banners and Buttons to Notebooks\n",
    "\n",
    "This notebook iterates through the notebooks in this repository and appends button images to the first cell of each.\n",
    "\n",
    "## Create a DataFrame of Notebook Files"
   ]
  },
  {
   "cell_type": "code",
   "execution_count": null,
   "metadata": {},
   "outputs": [],
   "source": [
    "import os\n",
    "import json\n",
    "import pandas as pd\n",
    "repo_path = 'https://github.com/data-dunkers/data-dunkers-modules'\n",
    "branch_name = 'main'\n",
    "\n",
    "def button_code_generator(notebook_path, notebook_filename):\n",
    "    notebook_path = notebook_path.replace('./','')\n",
    "    button_image = 'https://raw.githubusercontent.com/callysto/curriculum-notebooks/master/open-in-callysto-button.svg?sanitize=true'\n",
    "    a = '<a href=\"https://hub.callysto.ca/jupyter/hub/user-redirect/git-pull?repo='\n",
    "    size_alt = '\" width=\"123\" height=\"24\" alt=\"Open in Callysto\"/></a>'\n",
    "    callysto_button_code = a + repo_path.replace(':','%3A').replace('/','%2F') + '&branch=' + branch_name\n",
    "    callysto_button_code += '&subPath='+notebook_path+'/'+notebook_filename+'&depth=1\" target=\"_parent\"><img src=\"'+button_image+size_alt\n",
    "    # TODO add code for generating Open in Colab button (with image)\n",
    "    ## <a href=\"https://colab.research.google.com/github/Data-Dunkers/data-dunkers-modules/blob/main/data-dunkers/Lessons.ipynb\">\n",
    "    colab_button_image = 'https://colab.research.google.com/assets/colab-badge.svg?sanitize=true'\n",
    "    colab_button_code = '<a href=\"https://colab.research.google.com/github'\n",
    "    colab_button_code += repo_path.split('github.com')[1] + '/blob/' + branch_name\n",
    "    colab_button_code += notebook_path.replace('..','').replace('\\\\','/') +'/'+notebook_filename\n",
    "    print(colab_button_code)\n",
    "    return callysto_button_code + '|' + colab_button_code\n",
    "\n",
    "notebooks = []\n",
    "first_cells = []\n",
    "button_codes = []\n",
    "for root, dirs, files in os.walk(\"..\"):\n",
    "    for filename in files:\n",
    "        if filename.endswith('.ipynb'):\n",
    "            if not 'checkpoint' in filename:\n",
    "                button_code = button_code_generator(root, filename)\n",
    "                button_codes.append(button_code)\n",
    "                notebook_name_and_path = os.path.join(root, filename)\n",
    "                notebooks.append(notebook_name_and_path)\n",
    "                notebook = json.load(open(notebook_name_and_path))\n",
    "                first_cell = notebook['cells'][0]['source'][0]\n",
    "                first_cells.append(first_cell)\n",
    "\n",
    "df_dict = {'Notebook':notebooks, 'First Cell':first_cells, 'Button Code':button_codes}\n",
    "df = pd.DataFrame(df_dict)\n",
    "df"
   ]
  },
  {
   "cell_type": "code",
   "execution_count": null,
   "metadata": {},
   "outputs": [],
   "source": [
    "repo_path = 'https://github.com/data-dunkers/data-dunkers-modules'\n",
    "repo_path.split('github.com')[1]"
   ]
  },
  {
   "cell_type": "code",
   "execution_count": null,
   "metadata": {},
   "outputs": [],
   "source": [
    "df['Button Code'][0]"
   ]
  },
  {
   "cell_type": "markdown",
   "metadata": {},
   "source": [
    "## Iterate through the DataFrame of Notebook Files\n",
    "\n",
    "Insert or replace the first cell in each notebook with the button code."
   ]
  },
  {
   "cell_type": "code",
   "execution_count": null,
   "metadata": {},
   "outputs": [],
   "source": [
    "def insert_button_cell(notebook_name_and_path, first_cell_code, replace):\n",
    "    original_file = open(notebook_name_and_path, 'r')\n",
    "    notebook_contents = json.load(original_file)\n",
    "    original_file.close()\n",
    "    if replace == True:\n",
    "        del notebook_contents['cells'][0]  # delete the first cell\n",
    "    notebook_contents['cells'].insert(0, first_cell_code)\n",
    "    with open(notebook_name_and_path, 'w') as notebook_file:\n",
    "        json.dump(notebook_contents, notebook_file)\n",
    "\n",
    "for i, row in df.iterrows():\n",
    "    notebook_name_and_path = row['Notebook']\n",
    "    first_cell_code = {'cell_type': 'markdown', 'metadata': {}, 'source': [row['Button Code']]}\n",
    "    if 'notebooks-button-creator.ipynb' not in notebook_name_and_path:\n",
    "        if 'a href=\"https://hub.callysto.ca/jupyter/hub/user-redirect/git-pull?' not in row['First Cell']:\n",
    "            print(i, 'Inserting a cell in', notebook_name_and_path)\n",
    "            insert_button_cell(notebook_name_and_path, first_cell_code, False)  # set to True if we want to replace the first cell\n",
    "        else:\n",
    "            print('We should probably replace the first cell in', notebook_name_and_path)"
   ]
  },
  {
   "cell_type": "markdown",
   "metadata": {},
   "source": [
    "## Check our Work\n",
    "\n",
    "Again we will iterate through the notebooks and check the contents of the first cells."
   ]
  },
  {
   "cell_type": "code",
   "execution_count": null,
   "metadata": {},
   "outputs": [],
   "source": [
    "notebooks = []\n",
    "first_cells = []\n",
    "button_codes = []\n",
    "for root, dirs, files in os.walk(\"..\"):\n",
    "    for filename in files:\n",
    "        if filename.endswith('.ipynb'):\n",
    "            if not 'checkpoint' in filename:\n",
    "                notebook_name_and_path = os.path.join(root, filename)\n",
    "                notebooks.append(notebook_name_and_path)\n",
    "                notebook = json.load(open(notebook_name_and_path))\n",
    "                first_cell = notebook['cells'][0]['source'][0]\n",
    "                first_cells.append(first_cell)\n",
    "\n",
    "df_dict = {'Notebook':notebooks, 'First Cell':first_cells}\n",
    "df2 = pd.DataFrame(df_dict)\n",
    "df2"
   ]
  },
  {
   "cell_type": "code",
   "execution_count": null,
   "metadata": {},
   "outputs": [],
   "source": [
    "for i, row in df2.iterrows():\n",
    "    print(i, row['Name'])\n",
    "    print(row['First Cell'])\n",
    "    print('')"
   ]
  }
 ],
 "metadata": {
  "kernelspec": {
   "display_name": "Python 3",
   "language": "python",
   "name": "python3"
  },
  "language_info": {
   "codemirror_mode": {
    "name": "ipython",
    "version": 3
   },
   "file_extension": ".py",
   "mimetype": "text/x-python",
   "name": "python",
   "nbconvert_exporter": "python",
   "pygments_lexer": "ipython3",
   "version": "3.11.9"
  }
 },
 "nbformat": 4,
 "nbformat_minor": 2
}
