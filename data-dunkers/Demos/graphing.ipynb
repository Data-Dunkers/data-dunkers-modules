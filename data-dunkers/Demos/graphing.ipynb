{
 "cells": [
  {
   "attachments": {},
   "cell_type": "markdown",
   "metadata": {},
   "source": [
    "# Creating Graphs"
   ]
  },
  {
   "cell_type": "markdown",
   "metadata": {},
   "source": [
    "## Objectives\n",
    "\n",
    "Students will be able to:\n",
    "- Use the [Plotly Express](https://plotly.com/python/plotly-express/) library in [Python](https://www.python.org/) to create data visualizations\n",
    "- Load data from a CSV file into a [pandas](https://pandas.pydata.org/) [dataframe](https://pandas.pydata.org/pandas-docs/stable/reference/api/pandas.DataFrame.html) (like a spreadsheet)\n",
    "- Filter the data\n",
    "- Rename axis titles\n",
    "- Compare multiple data columns"
   ]
  },
  {
   "cell_type": "markdown",
   "metadata": {},
   "source": [
    "## Importing and Filtering Data\n",
    "\n",
    "Let's work with a [a data set about Pascal Siakam](../Data/Pascal_Siakam.csv), using the [pandas](https://pandas.pydata.org/) library to create a [dataframe](https://pandas.pydata.org/pandas-docs/stable/reference/api/pandas.DataFrame.html).\n",
    "\n",
    "We also use a filter to only include data up to and including the '2022-23' season (`SEASON_ID`). We'll display the resulting dataframe by including `df` on the last line of the cell."
   ]
  },
  {
   "cell_type": "code",
   "execution_count": null,
   "metadata": {},
   "outputs": [],
   "source": [
    "import pandas as pd\n",
    "\n",
    "url = 'https://raw.githubusercontent.com/Data-Dunkers/data-dunkers-modules/main/data-dunkers/Data/Pascal_Siakam.csv'\n",
    "df = pd.read_csv(url)\n",
    "\n",
    "filter = df['SEASON_ID'] <= '2022-23'\n",
    "df = df[filter]\n",
    "\n",
    "df"
   ]
  },
  {
   "attachments": {},
   "cell_type": "markdown",
   "metadata": {},
   "source": [
    "## Graphing\n",
    "\n",
    "We will use the [Plotly Express](https://plotly.com/python/plotly-express/) library for graphiung. This library can be imported by using the following command:\n",
    "\n",
    "`import plotly.express as px`\n",
    "\n",
    "The `px` part means we can refer to the library as `px` any time we want to use it.\n",
    "\n",
    "### Bar Graphs\n",
    "\n",
    "To create a [bar graph](https://plotly.com/python/bar-charts/), we will use the function `px.bar()`, tell it which dataframe to use (`df`), and state which column we want on each axis. In this example  we are plotting Siakam's field goals made (FGM) by season."
   ]
  },
  {
   "cell_type": "code",
   "execution_count": null,
   "metadata": {},
   "outputs": [],
   "source": [
    "import plotly.express as px\n",
    "px.bar(df, x='SEASON_ID', y='FGM')"
   ]
  },
  {
   "cell_type": "markdown",
   "metadata": {},
   "source": [
    "We can also add a title to the graph."
   ]
  },
  {
   "cell_type": "code",
   "execution_count": null,
   "metadata": {},
   "outputs": [],
   "source": [
    "px.bar(df, x='SEASON_ID', y='FGM', title='Siakam Field Goals by Season')"
   ]
  },
  {
   "attachments": {},
   "cell_type": "markdown",
   "metadata": {},
   "source": [
    "#### Axis Labels\n",
    "\n",
    "Let's rename the y-axis with `.update_yaxes(title='Field Goals')`"
   ]
  },
  {
   "cell_type": "code",
   "execution_count": null,
   "metadata": {},
   "outputs": [],
   "source": [
    "px.bar(df, x='SEASON_ID', y='FGM', title='Siakam Field Goals by Season').update_yaxes(title='Field Goals')"
   ]
  },
  {
   "attachments": {},
   "cell_type": "markdown",
   "metadata": {},
   "source": [
    "How would you do the x-axis label? Use the code cell below to make the x-axis label `'Season'`."
   ]
  },
  {
   "cell_type": "code",
   "execution_count": null,
   "metadata": {},
   "outputs": [],
   "source": [
    "px.bar(df, x='SEASON_ID', y='FGM', title='Siakam Field Goals by Season').update_yaxes(title='Field Goals')"
   ]
  },
  {
   "attachments": {},
   "cell_type": "markdown",
   "metadata": {},
   "source": [
    "#### Multiple Columns\n",
    "\n",
    "If we want to include multiple columns on the x-axis, we can use `[ ]` brackets."
   ]
  },
  {
   "cell_type": "code",
   "execution_count": null,
   "metadata": {},
   "outputs": [],
   "source": [
    "px.bar(df, x='SEASON_ID', y=['FGM', 'FGA'], title='Siakam Field Goals by Season')"
   ]
  },
  {
   "cell_type": "markdown",
   "metadata": {},
   "source": [
    "You see that the default is to stack the bars. We can use `barmode='group'` to put them side by side."
   ]
  },
  {
   "cell_type": "code",
   "execution_count": null,
   "metadata": {},
   "outputs": [],
   "source": [
    "px.bar(df, x='SEASON_ID', y=['FGM', 'FGA'], barmode='group', title='Siakam Field Goals by Season')"
   ]
  },
  {
   "attachments": {},
   "cell_type": "markdown",
   "metadata": {},
   "source": [
    "## Exercise\n",
    "\n",
    "Create a bar chart with 'Age' on the x-axis and `['FG_PCT', 'FG2_PCT', 'FG3_PCT']` on the y-axis.\n",
    "\n",
    "What changes do you see in these values over time?"
   ]
  },
  {
   "cell_type": "markdown",
   "metadata": {},
   "source": [
    "### Line Graphs\n",
    "\n",
    "Using Plotly Express and the same dataframe, we can also create [line graphs](https://plotly.com/python/line-charts/)."
   ]
  },
  {
   "cell_type": "code",
   "execution_count": null,
   "metadata": {},
   "outputs": [],
   "source": [
    "px.line(df, x='SEASON_ID', y='FGM', title='Siakam Field Goals by Season')"
   ]
  },
  {
   "cell_type": "markdown",
   "metadata": {},
   "source": [
    "### Scatter Plots\n",
    "\n",
    "[Scatter plots](https://plotly.com/python/line-and-scatter/) are similar to line graphs, without the connecting lines."
   ]
  },
  {
   "cell_type": "code",
   "execution_count": null,
   "metadata": {},
   "outputs": [],
   "source": [
    "px.scatter(df, x='SEASON_ID', y='FGM', title='Siakam Field Goals by Season')"
   ]
  },
  {
   "cell_type": "markdown",
   "metadata": {},
   "source": [
    "#### Displaying More Data\n",
    "\n",
    "We can color code the points by another value from the data set. Let's put numeric values on the axes and color the points by season."
   ]
  },
  {
   "cell_type": "code",
   "execution_count": null,
   "metadata": {},
   "outputs": [],
   "source": [
    "px.scatter(df, x='FGA', y='FGM', title='Siakam Field Goals Made versus Field Goal Attempts', color='SEASON_ID')"
   ]
  },
  {
   "cell_type": "markdown",
   "metadata": {},
   "source": [
    "We can also change the size of the data points to be proportional to one of the data columns. For example `size='AST'`."
   ]
  },
  {
   "cell_type": "code",
   "execution_count": null,
   "metadata": {},
   "outputs": [],
   "source": [
    "px.scatter(df, x='FGA', y='FGM', title='Siakam Field Goals versus Field Goal Attempts', color='SEASON_ID', size='AST')"
   ]
  },
  {
   "cell_type": "markdown",
   "metadata": {},
   "source": [
    "#### Trendlines\n",
    "\n",
    "To help us draw conclusions we can add a line of best fit, which we call a trendline. We often use the [ordinary least squares](https://en.wikipedia.org/wiki/Ordinary_least_squares) (OLS) method to calculate the parameters of the trendline."
   ]
  },
  {
   "cell_type": "code",
   "execution_count": null,
   "metadata": {},
   "outputs": [],
   "source": [
    "px.scatter(df, x='FGA', y='FGM', title='Siakam Field Goals Made versus Field Goal Attempts', trendline='ols')"
   ]
  },
  {
   "cell_type": "markdown",
   "metadata": {},
   "source": [
    "#### Exercise\n",
    "\n",
    "Create a scatter plot with assists per game `('AST')` on the x-axis, points per game `('PTS')` on the y-axis, and `color='AGE'`. Include a trendline."
   ]
  },
  {
   "cell_type": "code",
   "execution_count": null,
   "metadata": {},
   "outputs": [],
   "source": []
  },
  {
   "cell_type": "markdown",
   "metadata": {},
   "source": [
    "What do you observe about the relationship between these columns?"
   ]
  },
  {
   "cell_type": "markdown",
   "metadata": {},
   "source": [
    "### Pie Charts\n",
    "\n",
    "When creating a [pie chart](https://plotly.com/python/pie-charts/), we use `values=` and `names=` instead of `x=` and `y=`."
   ]
  },
  {
   "cell_type": "code",
   "execution_count": null,
   "metadata": {},
   "outputs": [],
   "source": [
    "px.pie(df, values='FGM', names='SEASON_ID', title='Siakam Field Goals by Season')"
   ]
  },
  {
   "cell_type": "markdown",
   "metadata": {},
   "source": [
    "### Histograms\n",
    "\n",
    "[Histograms](https://plotly.com/python/histograms/) are a type of bar graph that groups data in ranges, called bins. The height of each bar shows the amount of things in that bin, so we don't use `y=`.\n",
    "\n",
    "For this we will use a different data set, with data about all of the [2023 Toronto Raptors players](https://en.wikipedia.org/wiki/2022%E2%80%9323_Toronto_Raptors_season)."
   ]
  },
  {
   "cell_type": "code",
   "execution_count": null,
   "metadata": {},
   "outputs": [],
   "source": [
    "url = 'https://raw.githubusercontent.com/Data-Dunkers/data-dunkers-modules/main/data-dunkers/Data/raptors-2023.csv'\n",
    "raptors_df = pd.read_csv(url)\n",
    "\n",
    "px.histogram(raptors_df, x='FG%', title='Raptors Field Goal Percentage')"
   ]
  },
  {
   "cell_type": "markdown",
   "metadata": {},
   "source": [
    "We can see that most players had a field goal percentage between 0.45 and 0.499.\n",
    "\n",
    "Let's change the number of bins with `nbins=15`."
   ]
  },
  {
   "cell_type": "code",
   "execution_count": null,
   "metadata": {},
   "outputs": [],
   "source": [
    "px.histogram(raptors_df, x='FG%', title='Raptors Field Goal Percentage', nbins=15)"
   ]
  },
  {
   "cell_type": "markdown",
   "metadata": {},
   "source": [
    "We can also use use color to display another column, for example `color='Age'`."
   ]
  },
  {
   "cell_type": "code",
   "execution_count": null,
   "metadata": {},
   "outputs": [],
   "source": [
    "px.histogram(raptors_df, x='FG%', title='Raptors Field Goal Percentage', color='Age')"
   ]
  },
  {
   "cell_type": "markdown",
   "metadata": {},
   "source": [
    "### Exercise\n",
    "\n",
    "Create a histogram that shows free throw percentages."
   ]
  },
  {
   "cell_type": "code",
   "execution_count": null,
   "metadata": {},
   "outputs": [],
   "source": []
  },
  {
   "cell_type": "markdown",
   "metadata": {},
   "source": [
    "## Conclusion\n",
    "\n",
    "In this notebook we created data visualizations from a [pandas dataframe]([dataframe](https://pandas.pydata.org/pandas-docs/stable/reference/api/pandas.DataFrame.html)) using [Plotly Express](https://plotly.com/python/plotly-express/).\n",
    "\n",
    "Back to [Lessons](../Lessons.ipynb)"
   ]
  }
 ],
 "metadata": {
  "kernelspec": {
   "display_name": ".venv",
   "language": "python",
   "name": "python3"
  },
  "language_info": {
   "codemirror_mode": {
    "name": "ipython",
    "version": 3
   },
   "file_extension": ".py",
   "mimetype": "text/x-python",
   "name": "python",
   "nbconvert_exporter": "python",
   "pygments_lexer": "ipython3",
   "version": "3.11.9"
  },
  "orig_nbformat": 4
 },
 "nbformat": 4,
 "nbformat_minor": 2
}
