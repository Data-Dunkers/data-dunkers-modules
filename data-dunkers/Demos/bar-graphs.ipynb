{
 "cells": [
  {
   "attachments": {},
   "cell_type": "markdown",
   "metadata": {},
   "source": [
    "# Creating Bar Graphs"
   ]
  },
  {
   "cell_type": "markdown",
   "metadata": {},
   "source": [
    "## Objectives\n",
    "\n",
    "Students will be able to:\n",
    "- Use the [Plotly Express](https://plotly.com/python/plotly-express/) library in [Python](https://www.python.org/) to create bar graphs\n",
    "- Load data from a CSV file into a [pandas](https://pandas.pydata.org/) DataFrame\n",
    "- Filter the data\n",
    "- Create basic vertical and horizontal bar graphs to visualize data\n",
    "- Rename axis titles\n",
    "- Modify the layout of bar graphs\n",
    "- Compare multiple data columns"
   ]
  },
  {
   "attachments": {},
   "cell_type": "markdown",
   "metadata": {},
   "source": [
    "## Introduction\n",
    "\n",
    "The main library we will using in these exercises is [Plotly Express](https://plotly.com/python/plotly-express/). This library can be imported by using the following command:\n",
    "\n",
    "`import plotly.express as px`\n",
    "\n",
    "The `px` part means we can refer to the library as `px` any time we want to use it."
   ]
  },
  {
   "attachments": {},
   "cell_type": "markdown",
   "metadata": {},
   "source": [
    "## Bar Graphs\n",
    "\n",
    "Let's continue working with the [Pascal Siakam data set](../Data/Pascal_Siakam.csv). \n",
    "\n",
    "In this example  we are plotting Siakam's Field Goals (FG) by season.\n",
    "\n",
    "We also use a filter to only include data up to and including the '2022-23' season."
   ]
  },
  {
   "cell_type": "code",
   "execution_count": null,
   "metadata": {},
   "outputs": [],
   "source": [
    "import pandas as pd\n",
    "import plotly.express as px\n",
    "\n",
    "url = 'https://raw.githubusercontent.com/Data-Dunkers/data-dunkers-modules/main/data-dunkers/Data/Pascal_Siakam.csv'\n",
    "df = pd.read_csv(url)\n",
    "\n",
    "filter = df['SEASON_ID'] <= '2022-23'\n",
    "df = df[filter]\n",
    "\n",
    "px.bar(df, x='SEASON_ID', y='FGM', title='Siakam Field Goals by Season')"
   ]
  },
  {
   "attachments": {},
   "cell_type": "markdown",
   "metadata": {},
   "source": [
    "## Renaming X- or Y-Axis Labels\n",
    "\n",
    "Let's rename the y-axis title by adding this code below where we create the graph:\n",
    "\n",
    "`.update_yaxes(title='Field Goals')`"
   ]
  },
  {
   "cell_type": "code",
   "execution_count": null,
   "metadata": {},
   "outputs": [],
   "source": [
    "px.bar(df, x='SEASON_ID', y='FGM', title='Siakam Field Goals by Season').update_yaxes(title='Field Goals')"
   ]
  },
  {
   "attachments": {},
   "cell_type": "markdown",
   "metadata": {},
   "source": [
    "How would you do the x-axis label? Use the code cell below to make the x-axis label `'Season'`."
   ]
  },
  {
   "cell_type": "code",
   "execution_count": null,
   "metadata": {},
   "outputs": [],
   "source": [
    "px.bar(df, x='SEASON_ID', y='FGM', title='Siakam Field Goals by Season').update_yaxes(title='Field Goals')"
   ]
  },
  {
   "attachments": {},
   "cell_type": "markdown",
   "metadata": {},
   "source": [
    "## Horizontal Bar Graphs\n",
    "\n",
    "If we prefer a horizontal bar graph we can use `orientation='h'` and switch the x and y columns."
   ]
  },
  {
   "cell_type": "code",
   "execution_count": null,
   "metadata": {},
   "outputs": [],
   "source": [
    "px.bar(df, x='FGM', y='SEASON_ID', orientation='h', title='Siakam Field Goals by Season').update_xaxes(title='Field Goals').update_yaxes(title='Season')"
   ]
  },
  {
   "attachments": {},
   "cell_type": "markdown",
   "metadata": {},
   "source": [
    "## Multiple Columns\n",
    "\n",
    "Like before, we put our column choices in a list using `[ ]` brackets."
   ]
  },
  {
   "cell_type": "code",
   "execution_count": null,
   "metadata": {},
   "outputs": [],
   "source": [
    "fig = px.bar(df, x='SEASON_ID', y=['FGM', 'FGA'], title='Siakam Field Goals by Season')\n",
    "\n",
    "fig.update_yaxes(title='Field Goals')\n",
    "fig.show()"
   ]
  },
  {
   "attachments": {},
   "cell_type": "markdown",
   "metadata": {},
   "source": [
    "You see that the default is to stack the bars. We can use `barmode='group'` to put them side by side."
   ]
  },
  {
   "cell_type": "code",
   "execution_count": null,
   "metadata": {},
   "outputs": [],
   "source": [
    "fig = px.bar(df, x='SEASON_ID', y=['FGM', 'FGA'], barmode='group', title='Siakam Field Goals by Season')\n",
    "\n",
    "fig.update_yaxes(title='Field Goals')\n",
    "fig.show()"
   ]
  },
  {
   "attachments": {},
   "cell_type": "markdown",
   "metadata": {},
   "source": [
    "## Exercise\n",
    "\n",
    "Create a bar chart with 'Age' on the x-axis and 'FG_PCT_', 'FG2_PCT', 'FG3_PCT' on the y-axis. What changes do you see in these values over time?\n",
    "\n",
    "Don't forget to filter the data with `<= the '2022-23'` to include only the seasons up to and including 2022-23."
   ]
  },
  {
   "cell_type": "code",
   "execution_count": null,
   "metadata": {},
   "outputs": [],
   "source": [
    "url = 'https://raw.githubusercontent.com/Data-Dunkers/data-dunkers-modules/main/data-dunkers/Data/Pascal_Siakam.csv'\n",
    "df = pd.read_csv(url)\n"
   ]
  },
  {
   "cell_type": "markdown",
   "metadata": {},
   "source": [
    "--\n",
    "Back to [Lessons](../Lessons.ipynb)"
   ]
  }
 ],
 "metadata": {
  "kernelspec": {
   "display_name": ".venv",
   "language": "python",
   "name": "python3"
  },
  "language_info": {
   "codemirror_mode": {
    "name": "ipython",
    "version": 3
   },
   "file_extension": ".py",
   "mimetype": "text/x-python",
   "name": "python",
   "nbconvert_exporter": "python",
   "pygments_lexer": "ipython3",
   "version": "3.11.9"
  },
  "orig_nbformat": 4
 },
 "nbformat": 4,
 "nbformat_minor": 2
}
